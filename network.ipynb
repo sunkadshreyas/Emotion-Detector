{
 "cells": [
  {
   "cell_type": "code",
   "execution_count": 1,
   "metadata": {},
   "outputs": [],
   "source": [
    "import numpy as np\n",
    "import matplotlib.pyplot as plt\n",
    "import os\n",
    "%matplotlib inline\n",
    "\n",
    "from tensorflow.keras.preprocessing.image import ImageDataGenerator"
   ]
  },
  {
   "cell_type": "code",
   "execution_count": 2,
   "metadata": {},
   "outputs": [
    {
     "name": "stdout",
     "output_type": "stream",
     "text": [
      "4965 neutral images\n",
      "4097 fear images\n",
      "4830 sad images\n",
      "3171 surprise images\n",
      "3995 angry images\n",
      "436 disgust images\n",
      "7214 happy images\n"
     ]
    }
   ],
   "source": [
    "for expression in os.listdir('train/'):\n",
    "    print(str(len(os.listdir('train/' + expression))) + \" \" + expression + \" images\")"
   ]
  },
  {
   "cell_type": "code",
   "execution_count": 3,
   "metadata": {},
   "outputs": [],
   "source": [
    "img_size = 48\n",
    "batch_size = 128\n",
    "epochs = 10"
   ]
  },
  {
   "cell_type": "code",
   "execution_count": 4,
   "metadata": {},
   "outputs": [
    {
     "name": "stdout",
     "output_type": "stream",
     "text": [
      "Found 28708 images belonging to 7 classes.\n"
     ]
    }
   ],
   "source": [
    "train_datagen = ImageDataGenerator(rescale = 1./255, horizontal_flip=True)\n",
    "train_generator = train_datagen.flow_from_directory('train/',\n",
    "                                                   target_size = (img_size, img_size),\n",
    "                                                   batch_size = batch_size,\n",
    "                                                   color_mode = 'grayscale',\n",
    "                                                   class_mode = 'categorical',\n",
    "                                                   shuffle = True)"
   ]
  },
  {
   "cell_type": "code",
   "execution_count": 5,
   "metadata": {},
   "outputs": [
    {
     "name": "stdout",
     "output_type": "stream",
     "text": [
      "Found 7178 images belonging to 7 classes.\n"
     ]
    }
   ],
   "source": [
    "val_datagen = ImageDataGenerator(rescale = 1./255, horizontal_flip=True)\n",
    "val_generator = val_datagen.flow_from_directory('test/',\n",
    "                                               target_size = (img_size, img_size),\n",
    "                                               batch_size = batch_size,\n",
    "                                               color_mode = 'grayscale',\n",
    "                                               class_mode = 'categorical',\n",
    "                                               shuffle = False)"
   ]
  },
  {
   "cell_type": "code",
   "execution_count": 6,
   "metadata": {},
   "outputs": [],
   "source": [
    "from tensorflow.keras import Sequential\n",
    "from tensorflow.keras.layers import BatchNormalization,Conv2D,Dense,Flatten,Dropout,MaxPooling2D,Activation \n",
    "from tensorflow.keras.optimizers import Adam\n",
    "from tensorflow.keras.callbacks import ModelCheckpoint,ReduceLROnPlateau"
   ]
  },
  {
   "cell_type": "code",
   "execution_count": 7,
   "metadata": {},
   "outputs": [],
   "source": [
    "model = Sequential()\n",
    "\n",
    "model.add(Conv2D(64, (3,3), padding='same', input_shape=(48,48,1)))\n",
    "model.add(BatchNormalization())\n",
    "model.add(Activation('relu'))\n",
    "model.add(MaxPooling2D(pool_size=(2,2)))\n",
    "model.add(Dropout(0.3))\n",
    "\n",
    "model.add(Conv2D(128, (5,5), padding='same'))\n",
    "model.add(BatchNormalization())\n",
    "model.add(Activation('relu'))\n",
    "model.add(MaxPooling2D(pool_size=(2,2)))\n",
    "model.add(Dropout(0.3))\n",
    "\n",
    "model.add(Conv2D(512, (3,3), padding='same'))\n",
    "model.add(BatchNormalization())\n",
    "model.add(Activation('relu'))\n",
    "model.add(MaxPooling2D(pool_size=(2,2)))\n",
    "model.add(Dropout(0.3))\n",
    "\n",
    "model.add(Conv2D(512, (3,3), padding='same'))\n",
    "model.add(BatchNormalization())\n",
    "model.add(Activation('relu'))\n",
    "model.add(MaxPooling2D(pool_size=(2,2)))\n",
    "model.add(Dropout(0.3))\n",
    "\n",
    "model.add(Flatten())\n",
    "\n",
    "model.add(Dense(256))\n",
    "model.add(BatchNormalization())\n",
    "model.add(Activation('relu'))\n",
    "model.add(Dropout(0.3))\n",
    "\n",
    "model.add(Dense(512))\n",
    "model.add(BatchNormalization())\n",
    "model.add(Activation('relu'))\n",
    "model.add(Dropout(0.3))\n",
    "\n",
    "model.add(Dense(7, activation='softmax'))"
   ]
  },
  {
   "cell_type": "code",
   "execution_count": 8,
   "metadata": {},
   "outputs": [],
   "source": [
    "optimizer = Adam()\n",
    "model.compile(optimizer = optimizer, loss='categorical_crossentropy', metrics=['accuracy'])"
   ]
  },
  {
   "cell_type": "code",
   "execution_count": 9,
   "metadata": {},
   "outputs": [],
   "source": [
    "steps_per_epoch = train_generator.n // train_generator.batch_size\n",
    "validation_steps = val_generator.n // val_generator.batch_size"
   ]
  },
  {
   "cell_type": "code",
   "execution_count": 10,
   "metadata": {},
   "outputs": [],
   "source": [
    "checkpoint = ModelCheckpoint(\"model_weights.h5\",\n",
    "                            monitor = 'val_accuracy',\n",
    "                            save_weights_only = True,\n",
    "                            mode = 'max',\n",
    "                            verbose = 1)\n",
    "reduce_lr = ReduceLROnPlateau(monitor='val_loss',\n",
    "                             patience = 3,\n",
    "                             factor = 0.1,\n",
    "                             min_lr = 0.000001)\n",
    "callbacks = [checkpoint, reduce_lr]"
   ]
  },
  {
   "cell_type": "code",
   "execution_count": 11,
   "metadata": {},
   "outputs": [
    {
     "name": "stdout",
     "output_type": "stream",
     "text": [
      "Epoch 1/10\n",
      "224/224 [==============================] - ETA: 0s - loss: 1.8801 - accuracy: 0.2723\n",
      "Epoch 00001: saving model to model_weights.h5\n",
      "224/224 [==============================] - 713s 3s/step - loss: 1.8801 - accuracy: 0.2723 - val_loss: 2.1877 - val_accuracy: 0.2475\n",
      "Epoch 2/10\n",
      "224/224 [==============================] - ETA: 0s - loss: 1.5334 - accuracy: 0.4076\n",
      "Epoch 00002: saving model to model_weights.h5\n",
      "224/224 [==============================] - 685s 3s/step - loss: 1.5334 - accuracy: 0.4076 - val_loss: 1.8846 - val_accuracy: 0.2112\n",
      "Epoch 3/10\n",
      "224/224 [==============================] - ETA: 0s - loss: 1.3447 - accuracy: 0.4845\n",
      "Epoch 00003: saving model to model_weights.h5\n",
      "224/224 [==============================] - 686s 3s/step - loss: 1.3447 - accuracy: 0.4845 - val_loss: 1.4966 - val_accuracy: 0.4488\n",
      "Epoch 4/10\n",
      "224/224 [==============================] - ETA: 0s - loss: 1.2540 - accuracy: 0.5215\n",
      "Epoch 00004: saving model to model_weights.h5\n",
      "224/224 [==============================] - 685s 3s/step - loss: 1.2540 - accuracy: 0.5215 - val_loss: 1.3101 - val_accuracy: 0.4907\n",
      "Epoch 5/10\n",
      "224/224 [==============================] - ETA: 0s - loss: 1.2052 - accuracy: 0.5392\n",
      "Epoch 00005: saving model to model_weights.h5\n",
      "224/224 [==============================] - 690s 3s/step - loss: 1.2052 - accuracy: 0.5392 - val_loss: 1.2731 - val_accuracy: 0.5084\n",
      "Epoch 6/10\n",
      "224/224 [==============================] - ETA: 0s - loss: 1.1577 - accuracy: 0.5607\n",
      "Epoch 00006: saving model to model_weights.h5\n",
      "224/224 [==============================] - 685s 3s/step - loss: 1.1577 - accuracy: 0.5607 - val_loss: 1.1984 - val_accuracy: 0.5356\n",
      "Epoch 7/10\n",
      "224/224 [==============================] - ETA: 0s - loss: 1.1318 - accuracy: 0.5683\n",
      "Epoch 00007: saving model to model_weights.h5\n",
      "224/224 [==============================] - 682s 3s/step - loss: 1.1318 - accuracy: 0.5683 - val_loss: 1.2257 - val_accuracy: 0.5248\n",
      "Epoch 8/10\n",
      "224/224 [==============================] - ETA: 0s - loss: 1.0992 - accuracy: 0.5843\n",
      "Epoch 00008: saving model to model_weights.h5\n",
      "224/224 [==============================] - 684s 3s/step - loss: 1.0992 - accuracy: 0.5843 - val_loss: 1.1833 - val_accuracy: 0.5526\n",
      "Epoch 9/10\n",
      "224/224 [==============================] - ETA: 0s - loss: 1.0777 - accuracy: 0.5919\n",
      "Epoch 00009: saving model to model_weights.h5\n",
      "224/224 [==============================] - 684s 3s/step - loss: 1.0777 - accuracy: 0.5919 - val_loss: 1.3592 - val_accuracy: 0.4862\n",
      "Epoch 10/10\n",
      "224/224 [==============================] - ETA: 0s - loss: 1.0493 - accuracy: 0.6031\n",
      "Epoch 00010: saving model to model_weights.h5\n",
      "224/224 [==============================] - 685s 3s/step - loss: 1.0493 - accuracy: 0.6031 - val_loss: 1.1538 - val_accuracy: 0.5654\n"
     ]
    }
   ],
   "source": [
    "history = model.fit(x = train_generator,\n",
    "                   validation_data = val_generator,\n",
    "                   epochs = epochs,\n",
    "                   steps_per_epoch = steps_per_epoch,\n",
    "                   validation_steps = validation_steps,\n",
    "                   callbacks = callbacks)"
   ]
  },
  {
   "cell_type": "code",
   "execution_count": 12,
   "metadata": {},
   "outputs": [],
   "source": [
    "import os\n",
    "import cv2\n",
    "import numpy as np\n",
    "from tensorflow.keras.models import load_model\n",
    "from tensorflow.keras.preprocessing import image"
   ]
  },
  {
   "cell_type": "code",
   "execution_count": 14,
   "metadata": {},
   "outputs": [],
   "source": [
    "emotion_dict = {\n",
    "    0 : 'Angry', \n",
    "    1 : 'Disgusted',\n",
    "    2 : 'Fearful', \n",
    "    3 : 'Happy', \n",
    "    4 : 'Neutral', \n",
    "    5 : 'Sad', \n",
    "    6 : 'Surprised'\n",
    "}"
   ]
  },
  {
   "cell_type": "code",
   "execution_count": null,
   "metadata": {},
   "outputs": [],
   "source": [
    "cap = cv2.VideoCapture(0)\n",
    "\n",
    "while True:\n",
    "    ret,frame = cap.read()\n",
    "    if not ret:\n",
    "        break\n",
    "    facecasc = cv2.CascadeClassifier('haarcascade_frontalface_default.xml')\n",
    "    gray = cv2.cvtColor(frame, cv2.COLOR_BGR2GRAY)\n",
    "    faces = facecasc.detectMultiScale(gray,scaleFactor=1.3, minNeighbors=5)\n",
    "\n",
    "    for (x, y, w, h) in faces:\n",
    "        cv2.rectangle(frame, (x, y-50), (x+w, y+h+10), (255, 0, 0), 2)\n",
    "        roi_gray = gray[y:y + h, x:x + w]\n",
    "        cropped_img = np.expand_dims(np.expand_dims(cv2.resize(roi_gray, (48, 48)), -1), 0)\n",
    "        prediction = model.predict(cropped_img)\n",
    "        maxindex = int(np.argmax(prediction))\n",
    "        cv2.putText(frame, emotion_dict[maxindex], (x+20, y-60), cv2.FONT_HERSHEY_SIMPLEX, 1, (255, 255, 255), 2, cv2.LINE_AA)\n",
    "\n",
    "    cv2.imshow('Video', cv2.resize(frame,(1600,960),interpolation = cv2.INTER_CUBIC))\n",
    "    if cv2.waitKey(1) & 0xFF == ord('q'):\n",
    "        break\n",
    "\n",
    "print('Exit from Loop')\n",
    "cap.release()\n",
    "cv2.destroyAllWindows()"
   ]
  }
 ],
 "metadata": {
  "kernelspec": {
   "display_name": "Python 3",
   "language": "python",
   "name": "python3"
  },
  "language_info": {
   "codemirror_mode": {
    "name": "ipython",
    "version": 3
   },
   "file_extension": ".py",
   "mimetype": "text/x-python",
   "name": "python",
   "nbconvert_exporter": "python",
   "pygments_lexer": "ipython3",
   "version": "3.7.3"
  }
 },
 "nbformat": 4,
 "nbformat_minor": 4
}
